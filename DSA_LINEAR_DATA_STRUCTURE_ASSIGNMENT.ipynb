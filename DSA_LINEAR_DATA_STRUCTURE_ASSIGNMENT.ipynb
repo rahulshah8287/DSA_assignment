{
 "cells": [
  {
   "cell_type": "code",
   "execution_count": 1,
   "id": "7dc06747",
   "metadata": {},
   "outputs": [
    {
     "name": "stdout",
     "output_type": "stream",
     "text": [
      "5 4\n",
      "6 3\n",
      "7 2\n",
      "8 1\n"
     ]
    }
   ],
   "source": [
    "#Write a program to find all pairs of an integer array whose sum is equal to a given number.\n",
    "\n",
    "def function(list,output,n):\n",
    "    for i in range(n):\n",
    "        for j in range(i+1):\n",
    "            if array[i] + array[j] == given_result:\n",
    "                print(array[i], array[j])\n",
    "\n",
    "array=[1,2,3,4,5,6,7,8]\n",
    "given_result=9\n",
    "\n",
    "function(array,given_result,len(array))"
   ]
  },
  {
   "cell_type": "code",
   "execution_count": 2,
   "id": "5bd172a5",
   "metadata": {},
   "outputs": [
    {
     "name": "stdout",
     "output_type": "stream",
     "text": [
      "[9, 8, 7, 6, 5, 4, 3, 2, 1]\n"
     ]
    }
   ],
   "source": [
    "#Write a program to reverse an aray in place? In place means you cannot create a new array. You have to update the original arrayl\n",
    "\n",
    "def reverse(array,n):\n",
    "    i=0\n",
    "    j=n-1\n",
    "    while i < j:\n",
    "        array[i],array[j]=array[j],array[i]\n",
    "        i=i+1\n",
    "        j=j-1\n",
    "    print(array)\n",
    "list=[1,2,3,4,5,6,7,8,9]\n",
    "reverse(list,len(list))"
   ]
  },
  {
   "cell_type": "code",
   "execution_count": 3,
   "id": "557afb10",
   "metadata": {},
   "outputs": [
    {
     "name": "stdout",
     "output_type": "stream",
     "text": [
      "True\n"
     ]
    }
   ],
   "source": [
    "\n",
    "#Write a program to check if two strings are rotation of each other or not.\n",
    "\n",
    "def isrotation(s1,s2):\n",
    "    if len(s1)!=len(s2):\n",
    "        return False\n",
    "    else:\n",
    "        s3=s1+s1\n",
    "        if s2 in s3:\n",
    "            return True\n",
    "        else:\n",
    "            return False\n",
    "\n",
    "a=\"Its Raining Today\"\n",
    "b=\" Raining TodayIts\"\n",
    "\n",
    "print(isrotation(a,b))"
   ]
  },
  {
   "cell_type": "code",
   "execution_count": 4,
   "id": "a1cdcac1",
   "metadata": {},
   "outputs": [
    {
     "name": "stdout",
     "output_type": "stream",
     "text": [
      "Number Inserted: 2\n",
      "Number Inserted: 1\n",
      "Minimum Element in the stack is: 1\n",
      "Top Most Element Removed :1 \n",
      "Minimum Element in the stack is: 2\n",
      "Top Most Element Removed : 2\n",
      "Stack is empty\n"
     ]
    }
   ],
   "source": [
    "#Write a program to find the smallest number using a stack.\n",
    "\n",
    "\n",
    "\n",
    "class Node:\n",
    "\n",
    "    def __init__(self, value):\n",
    "        self.value = value\n",
    "        self.next = None\n",
    "\n",
    "\n",
    "    def __str__(self):\n",
    "        return \"Node({})\".format(self.value)\n",
    "\n",
    "\n",
    "    __repr__ = __str__\n",
    "\n",
    "\n",
    "class Stack:\n",
    "\n",
    "    def __init__(self):\n",
    "        self.top = None\n",
    "        self.count = 0\n",
    "        self.minimum = None\n",
    "\n",
    "\n",
    "    def __str__(self):\n",
    "        temp = self.top\n",
    "        out = []\n",
    "        while temp:\n",
    "            out.append(str(temp.value))\n",
    "            temp = temp.next\n",
    "        out = '\\n'.join(out)\n",
    "        return ('Top {} \\n\\nStack :\\n{}'.format(self.top, out))\n",
    "\n",
    "\n",
    "    __repr__ = __str__\n",
    "\n",
    "\n",
    "    def getMin(self):\n",
    "        if self.top is None:\n",
    "            return \"Stack is empty\"\n",
    "        else:\n",
    "            print(\"Minimum Element in the stack is: {}\".format(self.minimum))\n",
    "\n",
    "\n",
    "    def isEmpty(self):\n",
    "\n",
    "        if self.top == None:\n",
    "            return True\n",
    "        else:\n",
    "\n",
    "            return False\n",
    "\n",
    "\n",
    "    def __len__(self):\n",
    "        self.count = 0\n",
    "        tempNode = self.top\n",
    "        while tempNode:\n",
    "            tempNode = tempNode.next\n",
    "            self.count += 1\n",
    "        return self.count\n",
    "\n",
    "\n",
    "    def peek(self):\n",
    "        if self.top is None:\n",
    "            print(\"Stack is empty\")\n",
    "        else:\n",
    "            if self.top.value < self.minimum:\n",
    "                print(\"Top Most Element is: {}\".format(self.minimum))\n",
    "            else:\n",
    "                print(\"Top Most Element is: {}\".format(self.top.value))\n",
    "\n",
    "\n",
    "    def push(self, value):\n",
    "        if self.top is None:\n",
    "            self.top = Node(value)\n",
    "            self.minimum = value\n",
    "\n",
    "        elif value < self.minimum:\n",
    "            temp = (2 * value) - self.minimum\n",
    "            new_node = Node(temp)\n",
    "            new_node.next = self.top\n",
    "            self.top = new_node\n",
    "            self.minimum = value\n",
    "        else:\n",
    "            new_node = Node(value)\n",
    "            new_node.next = self.top\n",
    "            self.top = new_node\n",
    "        print(\"Number Inserted: {}\".format(value))\n",
    "\n",
    "\n",
    "    def pop(self):\n",
    "        if self.top is None:\n",
    "            print(\"Stack is empty\")\n",
    "        else:\n",
    "            removedNode = self.top.value\n",
    "            self.top = self.top.next\n",
    "            if removedNode < self.minimum:\n",
    "                print(\"Top Most Element Removed :{} \".format(self.minimum))\n",
    "                self.minimum = ((2 * self.minimum) - removedNode)\n",
    "            else:\n",
    "                print(\"Top Most Element Removed : {}\".format(removedNode))\n",
    "\n",
    "\n",
    "\n",
    "stack = Stack()\n",
    "\n",
    "\n",
    "stack.getMin()\n",
    "stack.push(2)\n",
    "stack.push(1)\n",
    "stack.getMin()\n",
    "stack.pop()\n",
    "stack.getMin()\n",
    "stack.pop()\n",
    "stack.peek()\n"
   ]
  },
  {
   "cell_type": "code",
   "execution_count": 6,
   "id": "7be8fca4",
   "metadata": {},
   "outputs": [
    {
     "name": "stdout",
     "output_type": "stream",
     "text": [
      "Rahul\n"
     ]
    }
   ],
   "source": [
    "#Write a program to print the first non-repeated character from the string.\n",
    "\n",
    "def isrepeated(w1):\n",
    "    w3=\"\"\n",
    "    for i in w1:\n",
    "        if i not in w3:\n",
    "            w3=w3+i\n",
    "    print(w3)\n",
    "a=\"Rahul\"\n",
    "isrepeated(a)"
   ]
  },
  {
   "cell_type": "code",
   "execution_count": 7,
   "id": "f2bf3be5",
   "metadata": {},
   "outputs": [
    {
     "name": "stdout",
     "output_type": "stream",
     "text": [
      "Shift disk 1 from A to B\n",
      "Shift disk 2 from A to C\n",
      "Shift disk 1 from B to C\n",
      "Shift disk 3 from A to B\n",
      "Shift disk 1 from C to A\n",
      "Shift disk 2 from C to B\n",
      "Shift disk 1 from A to B\n"
     ]
    }
   ],
   "source": [
    "\n",
    "#Read about the Tower of Hanoi algorithm. Write a program to implement it.\n",
    "\n",
    "def hanoi(n,A,C,B):\n",
    "    if n==0:\n",
    "        return\n",
    "    hanoi(n-1,A,B,C)\n",
    "    print(\"Shift disk\", n, \"from\",A, \"to\", C)\n",
    "    hanoi(n-1,B,C,A)\n",
    "n=3\n",
    "hanoi(n, \"A\", \"B\", \"C\")"
   ]
  },
  {
   "cell_type": "code",
   "execution_count": 8,
   "id": "58f44e46",
   "metadata": {},
   "outputs": [
    {
     "name": "stdout",
     "output_type": "stream",
     "text": [
      "Prefix :  +AB-CD\n"
     ]
    }
   ],
   "source": [
    "#Read about infix,prefix, and postfix expressions. Write a program to convert to postfix to prefix expression.\n",
    "\n",
    "\n",
    "def isOperator(x):\n",
    "    if x == \"+\":\n",
    "        return True\n",
    "\n",
    "    if x == \"-\":\n",
    "        return True\n",
    "\n",
    "    if x == \"/\":\n",
    "        return True\n",
    "\n",
    "    if x == \"*\":\n",
    "        return True\n",
    "\n",
    "    return False\n",
    "\n",
    "\n",
    "\n",
    "\n",
    "def postToPre(post_exp):\n",
    "    s = []\n",
    "\n",
    "\n",
    "    length = len(post_exp)\n",
    "\n",
    "\n",
    "    for i in range(length):\n",
    "        if (isOperator(post_exp[i])):\n",
    "            op1 = s[-1]\n",
    "            s.pop()\n",
    "            op2 = s[-1]\n",
    "            s.pop()\n",
    "\n",
    "            temp = post_exp[i] + op2 + op1\n",
    "            s.append(temp)\n",
    "\n",
    "\n",
    "        else:\n",
    "            s.append(post_exp[i])\n",
    "\n",
    "    ans = \"\"\n",
    "    for i in s:\n",
    "        ans += i\n",
    "    return ans\n",
    "\n",
    "\n",
    "\n",
    "if __name__ == \"__main__\":\n",
    "    post_exp = \"AB+CD-\"\n",
    "\n",
    "\n",
    "    print(\"Prefix : \", postToPre(post_exp))"
   ]
  },
  {
   "cell_type": "code",
   "execution_count": 9,
   "id": "dc5bf43e",
   "metadata": {},
   "outputs": [
    {
     "name": "stdout",
     "output_type": "stream",
     "text": [
      "((A-(B/C))*((A/K)-L))\n"
     ]
    }
   ],
   "source": [
    "#Write a program to convert prefix expression to infix expression.\n",
    "\n",
    "def prefixToInfix(prefix):\n",
    "    stack = []\n",
    "\n",
    "    \n",
    "    i = len(prefix) - 1\n",
    "    while i >= 0:\n",
    "        if not isOperator(prefix[i]):\n",
    "\n",
    "\n",
    "            stack.append(prefix[i])\n",
    "            i -= 1\n",
    "        else:\n",
    "\n",
    "\n",
    "            str = \"(\" + stack.pop() + prefix[i] + stack.pop() + \")\"\n",
    "            stack.append(str)\n",
    "            i -= 1\n",
    "\n",
    "    return stack.pop()\n",
    "\n",
    "\n",
    "def isOperator(c):\n",
    "    if c == \"*\" or c == \"+\" or c == \"-\" or c == \"/\" or c == \"^\" or c == \"(\" or c == \")\":\n",
    "        return True\n",
    "    else:\n",
    "        return False\n",
    "\n",
    "\n",
    "\n",
    "if __name__ == \"__main__\":\n",
    "    str = \"*-A/BC-/AKL\"\n",
    "    print(prefixToInfix(str))"
   ]
  },
  {
   "cell_type": "code",
   "execution_count": 10,
   "id": "79eef81e",
   "metadata": {},
   "outputs": [
    {
     "name": "stdout",
     "output_type": "stream",
     "text": [
      "Balanced\n"
     ]
    }
   ],
   "source": [
    "#Write a program to check if all the brackets are closed in a given code snippet.\n",
    "\n",
    "def areBracketsBalanced(expr):\n",
    " stack = []\n",
    "\n",
    "\n",
    " for char in expr:\n",
    "  if char in [\"(\", \"{\", \"[\"]:\n",
    "\n",
    "\n",
    "   stack.append(char)\n",
    "  else:\n",
    "\n",
    "\n",
    "   if not stack:\n",
    "    return False\n",
    "   current_char = stack.pop()\n",
    "   if current_char == '(':\n",
    "    if char != \")\":\n",
    "     return False\n",
    "   if current_char == '{':\n",
    "    if char != \"}\":\n",
    "     return False\n",
    "   if current_char == '[':\n",
    "    if char != \"]\":\n",
    "     return False\n",
    "\n",
    "\n",
    " if stack:\n",
    "  return False\n",
    " return True\n",
    "\n",
    "\n",
    "\n",
    "if __name__ == \"__main__\":\n",
    " expr = \"{()}[]\"\n",
    "\n",
    "\n",
    " if areBracketsBalanced(expr):\n",
    "  print(\"Balanced\")\n",
    " else:\n",
    "  print(\"Not Balanced\")"
   ]
  },
  {
   "cell_type": "code",
   "execution_count": 11,
   "id": "f6133e1e",
   "metadata": {},
   "outputs": [
    {
     "name": "stdout",
     "output_type": "stream",
     "text": [
      " hahS luhaR\n"
     ]
    }
   ],
   "source": [
    "\n",
    "#Write a program to reverse a stack.\n",
    "\n",
    "class Stack(object):\n",
    "    def __init__(self):\n",
    "        self.item=[]\n",
    "\n",
    "    def push(self,item):\n",
    "        self.item.append(item)\n",
    "\n",
    "    def pop(self):\n",
    "        if self.item==[]:\n",
    "            return None\n",
    "        else:\n",
    "            return self.item.pop()\n",
    "\n",
    "    def size(self):\n",
    "        return len(self.item)\n",
    "\n",
    "\n",
    "    def isempty(self):\n",
    "        return self.item==[]\n",
    "\n",
    "def reverse(str):\n",
    "    TemStr=\" \"\n",
    "    stack=Stack()\n",
    "\n",
    "    for i in range(len(str)):\n",
    "        stack.push(str[i])\n",
    "\n",
    "    while not stack.isempty():\n",
    "        Tem=stack.pop()\n",
    "        TemStr= TemStr + Tem\n",
    "    return TemStr\n",
    "\n",
    "if __name__==\"__main__\":\n",
    "    print(reverse(\"Rahul Shah\"))"
   ]
  },
  {
   "cell_type": "code",
   "execution_count": null,
   "id": "02b778c3",
   "metadata": {},
   "outputs": [],
   "source": []
  }
 ],
 "metadata": {
  "kernelspec": {
   "display_name": "Python 3 (ipykernel)",
   "language": "python",
   "name": "python3"
  },
  "language_info": {
   "codemirror_mode": {
    "name": "ipython",
    "version": 3
   },
   "file_extension": ".py",
   "mimetype": "text/x-python",
   "name": "python",
   "nbconvert_exporter": "python",
   "pygments_lexer": "ipython3",
   "version": "3.10.5"
  }
 },
 "nbformat": 4,
 "nbformat_minor": 5
}
